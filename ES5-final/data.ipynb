{
 "cells": [
  {
   "cell_type": "code",
   "execution_count": 5,
   "id": "62ef90d3-bfdc-46b7-8187-c4ef5fd09b98",
   "metadata": {},
   "outputs": [],
   "source": [
    "import pandas as pd\n",
    "import matplotlib.pyplot as plt\n",
    "import numpy as np\n",
    "import glob"
   ]
  },
  {
   "cell_type": "code",
   "execution_count": 11,
   "id": "e943de04-5083-4d20-a06e-17362a182fd8",
   "metadata": {},
   "outputs": [],
   "source": [
    "dataFiles = glob.glob(\"dati/*.csv\")"
   ]
  },
  {
   "cell_type": "code",
   "execution_count": 12,
   "id": "5aaf4be3-ae46-4701-8984-c2762efce1fd",
   "metadata": {},
   "outputs": [
    {
     "data": {
      "text/html": [
       "<div>\n",
       "<style scoped>\n",
       "    .dataframe tbody tr th:only-of-type {\n",
       "        vertical-align: middle;\n",
       "    }\n",
       "\n",
       "    .dataframe tbody tr th {\n",
       "        vertical-align: top;\n",
       "    }\n",
       "\n",
       "    .dataframe thead th {\n",
       "        text-align: right;\n",
       "    }\n",
       "</style>\n",
       "<table border=\"1\" class=\"dataframe\">\n",
       "  <thead>\n",
       "    <tr style=\"text-align: right;\">\n",
       "      <th></th>\n",
       "      <th>1 -11.0576 -8.75608 0 0 36.4054 38.707 -47.463 -47.463</th>\n",
       "    </tr>\n",
       "  </thead>\n",
       "  <tbody>\n",
       "    <tr>\n",
       "      <th>0</th>\n",
       "      <td>2 -9.68519 -12.0477 1.37241 3.29158 43.5374 36...</td>\n",
       "    </tr>\n",
       "    <tr>\n",
       "      <th>1</th>\n",
       "      <td>3 -9.93772 -10.932 1.1761 3.11645 37.3035 39.0...</td>\n",
       "    </tr>\n",
       "    <tr>\n",
       "      <th>2</th>\n",
       "      <td>4 -10.064 -10.3742 1.04174 2.86664 37.3035 39....</td>\n",
       "    </tr>\n",
       "    <tr>\n",
       "      <th>3</th>\n",
       "      <td>5 -10.1397 -10.0395 0.944002 2.64994 37.3035 3...</td>\n",
       "    </tr>\n",
       "    <tr>\n",
       "      <th>4</th>\n",
       "      <td>6 -10.1902 -9.8164 0.869121 2.46997 37.3035 39...</td>\n",
       "    </tr>\n",
       "    <tr>\n",
       "      <th>...</th>\n",
       "      <td>...</td>\n",
       "    </tr>\n",
       "    <tr>\n",
       "      <th>197993</th>\n",
       "      <td>197995 -13.1493 -13.526 4.99563 17.177 37.298 ...</td>\n",
       "    </tr>\n",
       "    <tr>\n",
       "      <th>197994</th>\n",
       "      <td>197996 -13.1493 -13.526 4.99562 17.177 37.298 ...</td>\n",
       "    </tr>\n",
       "    <tr>\n",
       "      <th>197995</th>\n",
       "      <td>197997 -13.1493 -13.526 4.99561 17.1769 37.298...</td>\n",
       "    </tr>\n",
       "    <tr>\n",
       "      <th>197996</th>\n",
       "      <td>197998 -13.1493 -13.526 4.9956 17.1769 37.298 ...</td>\n",
       "    </tr>\n",
       "    <tr>\n",
       "      <th>197997</th>\n",
       "      <td>197999 -13.1493 -13.526 4.99562 17.1768 41.026...</td>\n",
       "    </tr>\n",
       "  </tbody>\n",
       "</table>\n",
       "<p>197998 rows × 1 columns</p>\n",
       "</div>"
      ],
      "text/plain": [
       "       1 -11.0576 -8.75608 0 0 36.4054 38.707 -47.463 -47.463 \n",
       "0       2 -9.68519 -12.0477 1.37241 3.29158 43.5374 36...     \n",
       "1       3 -9.93772 -10.932 1.1761 3.11645 37.3035 39.0...     \n",
       "2       4 -10.064 -10.3742 1.04174 2.86664 37.3035 39....     \n",
       "3       5 -10.1397 -10.0395 0.944002 2.64994 37.3035 3...     \n",
       "4       6 -10.1902 -9.8164 0.869121 2.46997 37.3035 39...     \n",
       "...                                                   ...     \n",
       "197993  197995 -13.1493 -13.526 4.99563 17.177 37.298 ...     \n",
       "197994  197996 -13.1493 -13.526 4.99562 17.177 37.298 ...     \n",
       "197995  197997 -13.1493 -13.526 4.99561 17.1769 37.298...     \n",
       "197996  197998 -13.1493 -13.526 4.9956 17.1769 37.298 ...     \n",
       "197997  197999 -13.1493 -13.526 4.99562 17.1768 41.026...     \n",
       "\n",
       "[197998 rows x 1 columns]"
      ]
     },
     "execution_count": 12,
     "metadata": {},
     "output_type": "execute_result"
    }
   ],
   "source": [
    "file = dataFiles[0]\n",
    "pd.read_csv(file)"
   ]
  },
  {
   "cell_type": "code",
   "execution_count": null,
   "id": "e3c8f9e6-17e7-4847-9085-0a1f024aded5",
   "metadata": {},
   "outputs": [],
   "source": []
  }
 ],
 "metadata": {
  "kernelspec": {
   "display_name": "Python 3 (ipykernel)",
   "language": "python",
   "name": "python3"
  },
  "language_info": {
   "codemirror_mode": {
    "name": "ipython",
    "version": 3
   },
   "file_extension": ".py",
   "mimetype": "text/x-python",
   "name": "python",
   "nbconvert_exporter": "python",
   "pygments_lexer": "ipython3",
   "version": "3.10.4"
  }
 },
 "nbformat": 4,
 "nbformat_minor": 5
}
